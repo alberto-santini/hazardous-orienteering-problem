{
 "cells": [
  {
   "cell_type": "code",
   "execution_count": 1,
   "metadata": {},
   "outputs": [],
   "source": [
    "from glob import glob\n",
    "from typing import List, Dict\n",
    "from collections import defaultdict\n",
    "from tqdm.notebook import tqdm\n",
    "import pandas as pd\n",
    "import os"
   ]
  },
  {
   "cell_type": "code",
   "execution_count": 2,
   "metadata": {},
   "outputs": [],
   "source": [
    "algorithms = [\n",
    "    'frankwolfe_with_vi1_with_vi4_liftMTZ',\n",
    "    'integer_linear_model_LinearModelObjectiveFunction.LINEAR_APPROX_LOOSE_with_vi1_with_vi4_liftMTZ',\n",
    "    'integer_linear_model_LinearModelObjectiveFunction.LINEAR_APPROX_TIGHT_with_vi1_with_vi4_liftMTZ'\n",
    "]"
   ]
  },
  {
   "cell_type": "code",
   "execution_count": 3,
   "metadata": {
    "pycharm": {
     "name": "#%%\n"
    }
   },
   "outputs": [],
   "source": [
    "def instance_list() -> List[str]:\n",
    "    instances = list()\n",
    "    instance_folder = os.path.join(os.path.abspath(''), '..', 'data', 'hop-tsiligirides')\n",
    "\n",
    "    for instance in glob(os.path.join(instance_folder, '*.json')):\n",
    "        instances.append(os.path.splitext(os.path.basename(instance))[0])\n",
    "\n",
    "    return instances"
   ]
  },
  {
   "cell_type": "code",
   "execution_count": 4,
   "metadata": {
    "pycharm": {
     "name": "#%%\n"
    }
   },
   "outputs": [],
   "source": [
    "def read_results() -> pd.DataFrame:\n",
    "    dfs = list()\n",
    "    files = list()\n",
    "    resfile_folder = os.path.join(os.path.abspath(''), '..', 'results', 'run')\n",
    "\n",
    "    for algorithm in algorithms:\n",
    "        files += list(glob(os.path.join(resfile_folder, f\"*-{algorithm}-*.txt\")))\n",
    "\n",
    "    for resfile in tqdm(files):\n",
    "        dfs.append(pd.read_csv(resfile))\n",
    "\n",
    "    return pd.concat(dfs)"
   ]
  },
  {
   "cell_type": "code",
   "execution_count": 5,
   "metadata": {
    "pycharm": {
     "name": "#%%\n"
    }
   },
   "outputs": [],
   "source": [
    "def find_missing(instances: List[str], res: pd.DataFrame) -> Dict[str, int]:\n",
    "    missing = defaultdict(list)\n",
    "\n",
    "    for i in instances:\n",
    "        for algorithm in algorithms:\n",
    "            if len(res[(res.instance_basename == i) & (res.algorithm == algorithm)]) == 0:\n",
    "                missing[i].append(algorithm)\n",
    "\n",
    "    return missing"
   ]
  },
  {
   "cell_type": "code",
   "execution_count": 6,
   "metadata": {
    "pycharm": {
     "name": "#%%\n"
    }
   },
   "outputs": [],
   "source": [
    "instances = instance_list()"
   ]
  },
  {
   "cell_type": "code",
   "execution_count": 7,
   "metadata": {
    "pycharm": {
     "name": "#%%\n"
    }
   },
   "outputs": [
    {
     "data": {
      "application/vnd.jupyter.widget-view+json": {
       "model_id": "8c2bad9c3d10448f87914df9d980a987",
       "version_major": 2,
       "version_minor": 0
      },
      "text/plain": [
       "  0%|          | 0/2402 [00:00<?, ?it/s]"
      ]
     },
     "metadata": {},
     "output_type": "display_data"
    }
   ],
   "source": [
    "res = read_results()"
   ]
  },
  {
   "cell_type": "code",
   "execution_count": 8,
   "metadata": {
    "pycharm": {
     "name": "#%%\n"
    }
   },
   "outputs": [],
   "source": [
    "missing = find_missing(instances=instances, res=res)"
   ]
  },
  {
   "cell_type": "code",
   "execution_count": 9,
   "metadata": {},
   "outputs": [
    {
     "data": {
      "text/plain": [
       "defaultdict(list, {})"
      ]
     },
     "execution_count": 9,
     "metadata": {},
     "output_type": "execute_result"
    }
   ],
   "source": [
    "missing"
   ]
  },
  {
   "cell_type": "code",
   "execution_count": 10,
   "metadata": {},
   "outputs": [],
   "source": [
    "res.to_csv('model-based-upper-bounds.csv', index=False)"
   ]
  }
 ],
 "metadata": {
  "kernelspec": {
   "display_name": "Python 3 (ipykernel)",
   "language": "python",
   "name": "python3"
  },
  "language_info": {
   "codemirror_mode": {
    "name": "ipython",
    "version": 3
   },
   "file_extension": ".py",
   "mimetype": "text/x-python",
   "name": "python",
   "nbconvert_exporter": "python",
   "pygments_lexer": "ipython3",
   "version": "3.8.12"
  }
 },
 "nbformat": 4,
 "nbformat_minor": 1
}
