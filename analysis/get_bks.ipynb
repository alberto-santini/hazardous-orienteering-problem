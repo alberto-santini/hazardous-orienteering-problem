{
 "cells": [
  {
   "cell_type": "code",
   "execution_count": 1,
   "metadata": {},
   "outputs": [],
   "source": [
    "import pandas as pd"
   ]
  },
  {
   "cell_type": "code",
   "execution_count": 4,
   "metadata": {},
   "outputs": [],
   "source": [
    "def read_data() -> pd.DataFrame:\n",
    "    bnc = pd.read_csv('baron-bounds.csv')\n",
    "    bnc['BKS'] = bnc.obj\n",
    "\n",
    "    bc = pd.read_csv('baron-concave-bounds.csv')\n",
    "    bc['BKS'] = bc.original_obj\n",
    "\n",
    "    lbl = pd.read_csv('labelling-lower-bounds.csv')\n",
    "    lbl['BKS'] = lbl.obj\n",
    "\n",
    "    mdl = pd.read_csv('model-based-upper-bounds.csv')\n",
    "    mdl = mdl[mdl.algorithm != 'frankwolfe'].copy()\n",
    "    mdl['BKS'] = mdl.lb_original_obj_value\n",
    "\n",
    "    return pd.concat([bnc, bc, lbl, mdl])\n",
    "    "
   ]
  },
  {
   "cell_type": "code",
   "execution_count": 5,
   "metadata": {},
   "outputs": [],
   "source": [
    "res = read_data()"
   ]
  },
  {
   "cell_type": "code",
   "execution_count": 6,
   "metadata": {},
   "outputs": [],
   "source": [
    "bks = res[['instance_basename', 'BKS']].groupby('instance_basename').max().reset_index()"
   ]
  },
  {
   "cell_type": "code",
   "execution_count": 7,
   "metadata": {},
   "outputs": [],
   "source": [
    "bks.to_csv('bks.csv', index=False)"
   ]
  }
 ],
 "metadata": {
  "interpreter": {
   "hash": "dcfd4be38b74fd67a067a2c84885f63246ddcf923cb24893faa39e4501311478"
  },
  "kernelspec": {
   "display_name": "Python 3.8.12 ('hop')",
   "language": "python",
   "name": "python3"
  },
  "language_info": {
   "codemirror_mode": {
    "name": "ipython",
    "version": 3
   },
   "file_extension": ".py",
   "mimetype": "text/x-python",
   "name": "python",
   "nbconvert_exporter": "python",
   "pygments_lexer": "ipython3",
   "version": "3.8.12"
  },
  "orig_nbformat": 4
 },
 "nbformat": 4,
 "nbformat_minor": 2
}
