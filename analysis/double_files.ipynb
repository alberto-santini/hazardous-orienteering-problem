{
 "cells": [
  {
   "cell_type": "code",
   "execution_count": 4,
   "metadata": {},
   "outputs": [],
   "source": [
    "from glob import glob\n",
    "from shutil import move\n",
    "from os.path import exists\n",
    "import pandas as pd\n",
    "import itertools"
   ]
  },
  {
   "cell_type": "code",
   "execution_count": 2,
   "metadata": {},
   "outputs": [],
   "source": [
    "all_fw = list(glob('../results/run/*frankwolfe*.txt'))\n",
    "dfs = list()\n",
    "\n",
    "for file in all_fw:\n",
    "    d = pd.read_csv(file)\n",
    "    d['results_file'] = file\n",
    "    dfs.append(d)\n",
    "\n",
    "df = pd.concat(dfs)"
   ]
  },
  {
   "cell_type": "code",
   "execution_count": 3,
   "metadata": {},
   "outputs": [],
   "source": [
    "df.run_date = pd.to_datetime(df.run_date, format='%Y-%m-%d-%H-%M-%S')"
   ]
  },
  {
   "cell_type": "code",
   "execution_count": 5,
   "metadata": {},
   "outputs": [],
   "source": [
    "params = {\n",
    "    'instance_basename': df.instance_basename.unique(),\n",
    "    'add_vi1': [True, False],\n",
    "    'add_vi2': [True, False],\n",
    "    'add_vi3': [True, False],\n",
    "    'add_vi4': [True, False],\n",
    "    'lift_mtz': [True, False]\n",
    "}"
   ]
  },
  {
   "cell_type": "code",
   "execution_count": 6,
   "metadata": {},
   "outputs": [],
   "source": [
    "keys, values = zip(*params.items())\n",
    "all_params = [dict(zip(keys, v)) for v in itertools.product(*values)]"
   ]
  },
  {
   "cell_type": "code",
   "execution_count": 8,
   "metadata": {},
   "outputs": [
    {
     "name": "stdout",
     "output_type": "stream",
     "text": [
      "Moving ../results/run/2022-08-23-04-26-37-frankwolfe_with_vi1_with_vi4_liftMTZ-hop_tsiligirides-1-15-0.2-4.txt\n",
      "Moving ../results/run/2022-08-23-04-26-46-frankwolfe_with_vi1_with_vi4_liftMTZ-hop_tsiligirides-1-20-0.1-2.txt\n",
      "Moving ../results/run/2022-08-23-04-26-46-frankwolfe_with_vi1_with_vi4_liftMTZ-hop_tsiligirides-1-20-0.1-5.txt\n",
      "Moving ../results/run/2022-08-23-04-26-37-frankwolfe_with_vi1_with_vi4_liftMTZ-hop_tsiligirides-1-10-0.4-2.txt\n",
      "Moving ../results/run/2022-08-23-04-26-45-frankwolfe_with_vi1_with_vi4_liftMTZ-hop_tsiligirides-1-20-0.2-3.txt\n",
      "Moving ../results/run/2022-08-23-04-26-47-frankwolfe_with_vi1_with_vi4_liftMTZ-hop_tsiligirides-1-20-0.2-4.txt\n",
      "Moving ../results/run/2022-08-23-04-26-40-frankwolfe_with_vi1_with_vi4_liftMTZ-hop_tsiligirides-1-15-0.4-3.txt\n",
      "Moving ../results/run/2022-08-23-04-26-40-frankwolfe_with_vi1_with_vi4_liftMTZ-hop_tsiligirides-1-10-0.2-4.txt\n",
      "Moving ../results/run/2022-08-23-04-26-41-frankwolfe_with_vi1_with_vi4_liftMTZ-hop_tsiligirides-1-15-0.3-5.txt\n",
      "Moving ../results/run/2022-08-23-04-26-41-frankwolfe_with_vi1_with_vi4_liftMTZ-hop_tsiligirides-1-15-0.4-2.txt\n",
      "Moving ../results/run/2022-08-23-04-26-41-frankwolfe_with_vi1_with_vi4_liftMTZ-hop_tsiligirides-1-10-0.3-2.txt\n",
      "Moving ../results/run/2022-08-23-04-26-36-frankwolfe_with_vi1_with_vi4_liftMTZ-hop_tsiligirides-1-10-0.1-5.txt\n",
      "Moving ../results/run/2022-08-23-04-26-38-frankwolfe_with_vi1_with_vi4_liftMTZ-hop_tsiligirides-1-10-0.3-5.txt\n",
      "Moving ../results/run/2022-08-23-04-26-37-frankwolfe_with_vi1_with_vi4_liftMTZ-hop_tsiligirides-1-10-0.1-3.txt\n",
      "Moving ../results/run/2022-08-23-04-26-41-frankwolfe_with_vi1_with_vi4_liftMTZ-hop_tsiligirides-1-10-0.2-5.txt\n",
      "Moving ../results/run/2022-08-23-04-26-36-frankwolfe_with_vi1_with_vi4_liftMTZ-hop_tsiligirides-1-10-0.1-4.txt\n",
      "Moving ../results/run/2022-08-23-04-26-39-frankwolfe_with_vi1_with_vi4_liftMTZ-hop_tsiligirides-1-10-0.2-2.txt\n",
      "Moving ../results/run/2022-08-23-04-26-47-frankwolfe_with_vi1_with_vi4_liftMTZ-hop_tsiligirides-1-20-0.2-2.txt\n",
      "Moving ../results/run/2022-08-23-04-26-37-frankwolfe_with_vi1_with_vi4_liftMTZ-hop_tsiligirides-1-10-0.1-2.txt\n",
      "Moving ../results/run/2022-08-23-04-26-40-frankwolfe_with_vi1_with_vi4_liftMTZ-hop_tsiligirides-1-15-0.3-4.txt\n",
      "Moving ../results/run/2022-08-23-04-26-40-frankwolfe_with_vi1_with_vi4_liftMTZ-hop_tsiligirides-1-10-0.2-3.txt\n",
      "Moving ../results/run/2022-08-23-04-26-46-frankwolfe_with_vi1_with_vi4_liftMTZ-hop_tsiligirides-1-20-0.1-3.txt\n",
      "Moving ../results/run/2022-08-23-04-26-41-frankwolfe_with_vi1_with_vi4_liftMTZ-hop_tsiligirides-1-15-0.4-5.txt\n",
      "Moving ../results/run/2022-08-23-04-26-48-frankwolfe_with_vi1_with_vi4_liftMTZ-hop_tsiligirides-1-20-0.1-4.txt\n",
      "Moving ../results/run/2022-08-23-04-26-38-frankwolfe_with_vi1_with_vi4_liftMTZ-hop_tsiligirides-1-15-0.3-3.txt\n",
      "Moving ../results/run/2022-08-23-04-26-41-frankwolfe_with_vi1_with_vi4_liftMTZ-hop_tsiligirides-1-10-0.3-4.txt\n",
      "Moving ../results/run/2022-08-23-04-26-37-frankwolfe_with_vi1_with_vi4_liftMTZ-hop_tsiligirides-1-15-0.2-2.txt\n",
      "Moving ../results/run/2022-08-23-04-26-37-frankwolfe_with_vi1_with_vi4_liftMTZ-hop_tsiligirides-1-15-0.3-2.txt\n",
      "Moving ../results/run/2022-08-23-04-26-41-frankwolfe_with_vi1_with_vi4_liftMTZ-hop_tsiligirides-1-10-0.3-3.txt\n",
      "Moving ../results/run/2022-08-23-04-26-37-frankwolfe_with_vi1_with_vi4_liftMTZ-hop_tsiligirides-1-15-0.2-5.txt\n",
      "Moving ../results/run/2022-08-23-04-26-41-frankwolfe_with_vi1_with_vi4_liftMTZ-hop_tsiligirides-1-15-0.4-4.txt\n",
      "Moving ../results/run/2022-08-23-04-26-38-frankwolfe_with_vi1_with_vi4_liftMTZ-hop_tsiligirides-1-15-0.2-3.txt\n"
     ]
    }
   ],
   "source": [
    "for params in all_params:\n",
    "    di = df.loc[(df[list(params)] == pd.Series(params)).all(axis=1)]\n",
    "    \n",
    "    if len(di) > 1:\n",
    "        newest_date = di.run_date.max()\n",
    "    \n",
    "        for _, row in di.iterrows():\n",
    "            if row.run_date < newest_date and exists(row.results_file):\n",
    "                print(f\"Moving {row.results_file}\")\n",
    "                move(row.results_file, row.results_file + '.old')\n"
   ]
  },
  {
   "cell_type": "code",
   "execution_count": null,
   "metadata": {},
   "outputs": [],
   "source": []
  }
 ],
 "metadata": {
  "interpreter": {
   "hash": "dcfd4be38b74fd67a067a2c84885f63246ddcf923cb24893faa39e4501311478"
  },
  "kernelspec": {
   "display_name": "Python 3.8.12 ('hop')",
   "language": "python",
   "name": "python3"
  },
  "language_info": {
   "codemirror_mode": {
    "name": "ipython",
    "version": 3
   },
   "file_extension": ".py",
   "mimetype": "text/x-python",
   "name": "python",
   "nbconvert_exporter": "python",
   "pygments_lexer": "ipython3",
   "version": "3.8.12"
  },
  "orig_nbformat": 4
 },
 "nbformat": 4,
 "nbformat_minor": 2
}
