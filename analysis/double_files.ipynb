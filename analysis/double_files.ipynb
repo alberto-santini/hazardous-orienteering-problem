{
 "cells": [
  {
   "cell_type": "code",
   "execution_count": 23,
   "metadata": {},
   "outputs": [],
   "source": [
    "from glob import glob\n",
    "from shutil import move\n",
    "from os.path import exists\n",
    "import pandas as pd"
   ]
  },
  {
   "cell_type": "code",
   "execution_count": 27,
   "metadata": {},
   "outputs": [],
   "source": [
    "all_fw = list(glob('../results/run/*frankwolfe*.txt'))\n",
    "dfs = list()\n",
    "\n",
    "for file in all_fw:\n",
    "    d = pd.read_csv(file)\n",
    "    d['results_file'] = file\n",
    "    dfs.append(d)\n",
    "\n",
    "df = pd.concat(dfs)\n"
   ]
  },
  {
   "cell_type": "code",
   "execution_count": 28,
   "metadata": {},
   "outputs": [],
   "source": [
    "df.run_date = pd.to_datetime(df.run_date, format='%Y-%m-%d-%H-%M-%S')"
   ]
  },
  {
   "cell_type": "code",
   "execution_count": 29,
   "metadata": {},
   "outputs": [
    {
     "name": "stdout",
     "output_type": "stream",
     "text": [
      "Moving ../results/run/2022-03-24-10-28-20-frankwolfe-hop_tsiligirides-3-55-0.1-2.txt\n"
     ]
    }
   ],
   "source": [
    "for instance in df.instance_basename:\n",
    "    di = df[df.instance_basename == instance]\n",
    "    \n",
    "    if len(di) > 1:\n",
    "        newest_date = di.run_date.max()\n",
    "    \n",
    "        for _, row in di.iterrows():\n",
    "            if row.run_date < newest_date and exists(row.results_file):\n",
    "                print(f\"Moving {row.results_file}\")\n",
    "                move(row.results_file, row.results_file + '.old')\n"
   ]
  },
  {
   "cell_type": "code",
   "execution_count": null,
   "metadata": {},
   "outputs": [],
   "source": []
  }
 ],
 "metadata": {
  "interpreter": {
   "hash": "dcfd4be38b74fd67a067a2c84885f63246ddcf923cb24893faa39e4501311478"
  },
  "kernelspec": {
   "display_name": "Python 3.8.12 ('hop')",
   "language": "python",
   "name": "python3"
  },
  "language_info": {
   "codemirror_mode": {
    "name": "ipython",
    "version": 3
   },
   "file_extension": ".py",
   "mimetype": "text/x-python",
   "name": "python",
   "nbconvert_exporter": "python",
   "pygments_lexer": "ipython3",
   "version": "3.8.12"
  },
  "orig_nbformat": 4
 },
 "nbformat": 4,
 "nbformat_minor": 2
}
