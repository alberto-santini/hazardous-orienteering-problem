{
 "cells": [
  {
   "cell_type": "code",
   "execution_count": 1,
   "metadata": {},
   "outputs": [],
   "source": [
    "from glob import glob\n",
    "from typing import List\n",
    "from tqdm.notebook import tqdm\n",
    "import pandas as pd\n",
    "import os"
   ]
  },
  {
   "cell_type": "code",
   "execution_count": 2,
   "metadata": {
    "pycharm": {
     "name": "#%%\n"
    }
   },
   "outputs": [],
   "source": [
    "def instance_list() -> List[str]:\n",
    "    instances = list()\n",
    "    instance_folder = os.path.join(os.path.abspath(''), '..', 'data', 'hop-tsiligirides')\n",
    "\n",
    "    for instance in glob(os.path.join(instance_folder, '*.json')):\n",
    "        instances.append(os.path.splitext(os.path.basename(instance))[0])\n",
    "\n",
    "    return instances"
   ]
  },
  {
   "cell_type": "code",
   "execution_count": 3,
   "metadata": {},
   "outputs": [],
   "source": [
    "def read_results() -> pd.DataFrame:\n",
    "    dfs = list()\n",
    "    resfile_folder = os.path.join(os.path.abspath(''), '..', 'results', 'run')\n",
    "\n",
    "    files = list(glob(os.path.join(resfile_folder, '*-labelling_*')))\n",
    "\n",
    "    for resfile in tqdm(files):\n",
    "        try:\n",
    "            df = pd.read_csv(resfile)\n",
    "        except:\n",
    "            print(f\"Invalid file: {os.path.basename(resfile)}: skipping.\")\n",
    "        else:\n",
    "            dfs.append(df)\n",
    "\n",
    "    return pd.concat(dfs)"
   ]
  },
  {
   "cell_type": "code",
   "execution_count": 4,
   "metadata": {},
   "outputs": [],
   "source": [
    "def find_missing(instances: List[str], res: pd.DataFrame) -> List[str]:\n",
    "    return [i for i in instances if len(res[res.instance_basename == i]) != 3]"
   ]
  },
  {
   "cell_type": "code",
   "execution_count": 6,
   "metadata": {},
   "outputs": [],
   "source": [
    "instances = instance_list()"
   ]
  },
  {
   "cell_type": "code",
   "execution_count": 7,
   "metadata": {},
   "outputs": [
    {
     "data": {
      "application/vnd.jupyter.widget-view+json": {
       "model_id": "6fe3dd6e0b2b4dcc970f373c65e2e0e6",
       "version_major": 2,
       "version_minor": 0
      },
      "text/plain": [
       "  0%|          | 0/2352 [00:00<?, ?it/s]"
      ]
     },
     "metadata": {},
     "output_type": "display_data"
    }
   ],
   "source": [
    "res = read_results()"
   ]
  },
  {
   "cell_type": "code",
   "execution_count": 8,
   "metadata": {},
   "outputs": [],
   "source": [
    "missing = find_missing(instances=instances, res=res)"
   ]
  },
  {
   "cell_type": "code",
   "execution_count": 9,
   "metadata": {},
   "outputs": [
    {
     "data": {
      "text/plain": [
       "[]"
      ]
     },
     "execution_count": 9,
     "metadata": {},
     "output_type": "execute_result"
    }
   ],
   "source": [
    "missing"
   ]
  },
  {
   "cell_type": "code",
   "execution_count": 10,
   "metadata": {},
   "outputs": [],
   "source": [
    "res[res.algorithm.isin(['labelling_RelaxedLabel', 'labelling_RelaxedTCLabel'])].to_csv('labelling-upper-bounds.csv', index=False)"
   ]
  },
  {
   "cell_type": "code",
   "execution_count": 11,
   "metadata": {},
   "outputs": [],
   "source": [
    "res[res.algorithm == 'labelling_StrongLabel'].to_csv('labelling-lower-bounds.csv', index=False)"
   ]
  }
 ],
 "metadata": {
  "kernelspec": {
   "display_name": "Python 3 (ipykernel)",
   "language": "python",
   "name": "python3"
  },
  "language_info": {
   "codemirror_mode": {
    "name": "ipython",
    "version": 3
   },
   "file_extension": ".py",
   "mimetype": "text/x-python",
   "name": "python",
   "nbconvert_exporter": "python",
   "pygments_lexer": "ipython3",
   "version": "3.8.12"
  }
 },
 "nbformat": 4,
 "nbformat_minor": 1
}
