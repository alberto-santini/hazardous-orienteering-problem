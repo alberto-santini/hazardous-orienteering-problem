{
 "cells": [
  {
   "cell_type": "code",
   "execution_count": 43,
   "metadata": {},
   "outputs": [],
   "source": [
    "import pandas as pd\n",
    "import numpy as np"
   ]
  },
  {
   "cell_type": "code",
   "execution_count": 44,
   "metadata": {},
   "outputs": [],
   "source": [
    "def read_data() -> pd.DataFrame:\n",
    "    l = pd.read_csv('labelling-upper-bounds.csv')\n",
    "\n",
    "    l['VALID_UB'] = l.algorithm_completed\n",
    "    l['BEST_POSSIBLE_UB'] = l.algorithm_completed\n",
    "    l['UB_VALUE'] = l.obj\n",
    "\n",
    "    m = pd.read_csv('model-based-upper-bounds.csv')\n",
    "\n",
    "    fw = m[m.algorithm == 'frankwolfe'].copy()\n",
    "    im = m[m.algorithm != 'frankwolfe'].copy()\n",
    "\n",
    "    fw['VALID_UB'] = True\n",
    "    fw['BEST_POSSIBLE_UB'] = True\n",
    "    fw['UB_VALUE'] = fw.obj\n",
    "\n",
    "    im['VALID_UB'] = True\n",
    "    im['BEST_POSSIBLE_UB'] = (im.obj - im.obj_bound < 0.001)\n",
    "    im['UB_VALUE'] = im.obj_bound\n",
    "\n",
    "    return pd.concat([l, fw, im])"
   ]
  },
  {
   "cell_type": "code",
   "execution_count": 45,
   "metadata": {},
   "outputs": [],
   "source": [
    "res = read_data()"
   ]
  },
  {
   "cell_type": "code",
   "execution_count": 46,
   "metadata": {},
   "outputs": [],
   "source": [
    "bks = pd.read_csv('bks.csv')"
   ]
  },
  {
   "cell_type": "code",
   "execution_count": 50,
   "metadata": {},
   "outputs": [],
   "source": [
    "def get_gap(row: pd.Series) -> float:\n",
    "    i = row.instance_basename\n",
    "    bks_row = bks[bks.instance_basename == i]\n",
    "\n",
    "    if len(bks_row) == 0:\n",
    "        print(f\"No entry found in BKS file for instance {i}\")\n",
    "        raise RuntimeError('Missing BKS value')\n",
    "\n",
    "    lb = bks_row.iloc[0]['BKS']\n",
    "    ub = row['UB_VALUE']\n",
    "\n",
    "    if row.VALID_UB and lb - ub > 1e-3:\n",
    "        print(f\"Invalid bounds for {row.instance_basename}: {lb=:.2f}, {ub=:.2f}\")\n",
    "\n",
    "    if np.isnan(ub) or ub == 0:\n",
    "        return 1\n",
    "    else:\n",
    "        return np.abs(ub - lb) / ub"
   ]
  },
  {
   "cell_type": "code",
   "execution_count": 51,
   "metadata": {},
   "outputs": [],
   "source": [
    "res['GAP'] = res.apply(get_gap, axis=1)"
   ]
  },
  {
   "cell_type": "code",
   "execution_count": 52,
   "metadata": {},
   "outputs": [],
   "source": [
    "def pct_valid_bound(df: pd.DataFrame) -> float:\n",
    "    n_valid = len(df[df['VALID_UB'] == True])\n",
    "    n_all = len(df)\n",
    "\n",
    "    return 100 * n_valid / n_all\n",
    "\n",
    "def pct_gap_valid_only(df: pd.DataFrame) -> float:\n",
    "    valid = df[df['VALID_UB'] == True]\n",
    "    return 100 * valid['GAP'].mean()"
   ]
  },
  {
   "cell_type": "code",
   "execution_count": 53,
   "metadata": {},
   "outputs": [
    {
     "name": "stdout",
     "output_type": "stream",
     "text": [
      "\\begin{tabular}{ll rr rr rr rrr rrr}\n",
      "\\toprule\n",
      " & & \\multicolumn{2}{c}{\\textsc{UB-Lin}} & \\multicolumn{2}{c}{\\textsc{UB-PwLin}} & \\multicolumn{2}{c}{\\textsc{UB-Cont}} & \\multicolumn{3}{c}{\\textsc{UB-SSR}} & \\multicolumn{3}{c}{\\textsc{UB-SSR-2CE}} \\\\\n",
      "\\cmidrule(lr){3-4}\\cmidrule(lr){5-6}\\cmidrule(lr){7-8}\\cmidrule(lr){9-11}\\cmidrule(lr){12-14}\n",
      "\\(\\alpha^{\\text{Tsi}}\\) & \\(\\beta^{\\text{Tsi}}\\) & Gap\\% & T (s) & Gap\\% & T (s) & Gap\\% & T (s) & Val\\% & Gap\\% & T (s) & Val\\% & Gap\\% & T (s) \\\\\n",
      "\\midrule\n",
      "0.10 & 2 & 11.30 & 42.6 &  8.17 & 41.9 & 13.32 & 1.3 & 28.57 & 34.58 & 2742.3 & 20.41 & 13.81 & 3020.8 \\\\\n",
      "0.10 & 3 & 18.20 & 48.4 & 13.41 & 46.6 & 19.70 & 1.1 & 28.57 & 29.83 & 2722.1 & 20.41 & 14.61 & 3035.8 \\\\\n",
      "0.10 & 4 & 23.44 & 48.5 & 17.24 & 47.1 & 22.80 & 1.2 & 28.57 & 28.79 & 2772.4 & 18.37 & 10.63 & 3015.6 \\\\\n",
      "0.10 & 5 & 25.28 & 48.8 & 19.05 & 47.2 & 21.76 & 1.2 & 28.57 & 31.86 & 2769.0 & 16.33 & 11.45 & 3046.9 \\\\\n",
      "0.20 & 2 & 24.82 & 52.9 & 18.23 & 52.2 & 19.04 & 1.2 & 22.45 & 35.30 & 2893.3 & 16.33 & 16.05 & 3067.6 \\\\\n",
      "0.20 & 3 & 34.93 & 55.7 & 27.09 & 53.9 & 16.46 & 1.2 & 20.41 & 30.94 & 2964.5 & 14.29 & 14.66 & 3126.5 \\\\\n",
      "0.20 & 4 & 40.34 & 57.9 & 32.23 & 57.0 & 26.06 & 1.3 & 24.49 & 25.87 & 2866.6 & 16.33 &  8.56 & 3094.0 \\\\\n",
      "0.20 & 5 & 44.22 & 56.6 & 35.64 & 56.2 & 26.16 & 1.3 & 24.49 & 26.48 & 2876.1 & 14.29 &  8.28 & 3112.4 \\\\\n",
      "0.30 & 2 & 33.51 & 53.9 & 25.38 & 53.6 & 17.83 & 1.4 & 22.45 & 29.69 & 2975.2 & 16.33 & 10.15 & 3075.1 \\\\\n",
      "0.30 & 3 & 44.56 & 57.0 & 36.15 & 55.9 & 19.71 & 1.6 & 20.41 & 30.74 & 2978.2 & 14.29 &  9.80 & 3125.2 \\\\\n",
      "0.30 & 4 & 50.80 & 57.1 & 42.13 & 55.9 & 21.60 & 1.4 & 24.49 & 25.40 & 2915.6 & 14.29 & 10.73 & 3117.5 \\\\\n",
      "0.30 & 5 & 56.78 & 58.9 & 47.99 & 58.4 & 25.66 & 1.6 & 20.41 & 23.72 & 2990.2 & 14.29 &  7.41 & 3105.1 \\\\\n",
      "0.40 & 2 & 43.77 & 55.7 & 35.56 & 55.2 & 22.97 & 1.2 & 22.45 & 33.27 & 2941.4 & 16.33 & 10.45 & 3080.6 \\\\\n",
      "0.40 & 3 & 54.48 & 58.2 & 45.86 & 58.0 & 19.86 & 1.9 & 22.45 & 28.00 & 2950.5 & 18.37 &  6.81 & 3090.8 \\\\\n",
      "0.40 & 4 & 58.68 & 60.6 & 50.19 & 59.3 & 22.82 & 1.7 & 26.53 & 21.47 & 2826.6 & 16.33 &  8.14 & 3102.0 \\\\\n",
      "0.40 & 5 & 62.30 & 56.4 & 54.50 & 56.4 & 25.98 & 1.9 & 22.45 & 23.10 & 2933.4 & 14.29 &  8.86 & 3126.0 \\\\\n",
      "\\midrule\n",
      "\\multicolumn{2}{l}{Overall} & 39.21 & 54.3 & 31.80 & 53.4 & 21.36 & 1.4 & 24.23 & 28.73 & 2882.3 & 16.33 & 10.77 & 3083.9 \\\\\n",
      "\\bottomrule\n",
      "\\end{tabular}\n"
     ]
    }
   ],
   "source": [
    "print('\\\\begin{tabular}{ll rr rr rr rrr rrr}')\n",
    "print('\\\\toprule')\n",
    "print(' & & ', end='')\n",
    "print('\\\\multicolumn{2}{c}{\\\\textsc{UB-Lin}} & ', end='')\n",
    "print('\\\\multicolumn{2}{c}{\\\\textsc{UB-PwLin}} & ', end='')\n",
    "print('\\\\multicolumn{2}{c}{\\\\textsc{UB-Cont}} & ', end='')\n",
    "print('\\\\multicolumn{3}{c}{\\\\textsc{UB-SSR}} & ', end='')\n",
    "print('\\\\multicolumn{3}{c}{\\\\textsc{UB-SSR-2CE}} \\\\\\\\')\n",
    "print('\\\\cmidrule(lr){3-4}\\\\cmidrule(lr){5-6}\\\\cmidrule(lr){7-8}\\\\cmidrule(lr){9-11}\\\\cmidrule(lr){12-14}')\n",
    "print('\\\\(\\\\alpha^{\\\\text{Tsi}}\\\\) & \\\\(\\\\beta^{\\\\text{Tsi}}\\\\) & ', end='')\n",
    "print('Gap\\% & T (s) & Gap\\% & T (s) & Gap\\% & T (s) & ', end='')\n",
    "print('Val\\% & Gap\\% & T (s) & Val\\% & Gap\\% & T (s) \\\\\\\\')\n",
    "print('\\\\midrule')\n",
    "\n",
    "for alpha in sorted(res.tsiligirides_hop_alpha.unique()):\n",
    "    for beta in sorted(res.tsiligirides_hop_beta.unique()):\n",
    "        f = res[(res.tsiligirides_hop_alpha == alpha) & (res.tsiligirides_hop_beta == beta)]\n",
    "\n",
    "        print(f\"{alpha:.2f} & {beta} & \", end='')\n",
    "\n",
    "        # Linear UB\n",
    "        df = f[f.algorithm == 'integer_linear_model_LinearModelObjectiveFunction.LINEAR_APPROX_LOOSE']\n",
    "        print(f\"{pct_gap_valid_only(df):>5.2f} & {df.time_s.mean():.1f} & \", end='')\n",
    "\n",
    "        # Piecewise-linear UB\n",
    "        df = f[f.algorithm == 'integer_linear_model_LinearModelObjectiveFunction.LINEAR_APPROX_TIGHT']\n",
    "        print(f\"{pct_gap_valid_only(df):>5.2f} & {df.time_s.mean():.1f} & \", end='')\n",
    "\n",
    "        # Frank-Wolfe continuous relaxation UB\n",
    "        df = f[f.algorithm == 'frankwolfe']\n",
    "        print(f\"{pct_gap_valid_only(df):>5.2f} & {df.time_s.mean():.1f} & \", end='')\n",
    "\n",
    "        # State-space relaxation labelling\n",
    "        df = f[f.algorithm == 'labelling_RelaxedLabel']\n",
    "        print(f\"{pct_valid_bound(df):>5.2f} & {pct_gap_valid_only(df):>5.2f} & {df.time_s.mean():.1f} & \", end='')\n",
    "\n",
    "        # State-space relaxation labelling with 2-cycle \n",
    "        df = f[f.algorithm == 'labelling_RelaxedTCLabel']\n",
    "        print(f\"{pct_valid_bound(df):>5.2f} & {pct_gap_valid_only(df):>5.2f} & {df.time_s.mean():.1f} \\\\\\\\\")\n",
    "\n",
    "print('\\\\midrule')\n",
    "\n",
    "print('\\\\multicolumn{2}{l}{Overall} & ', end='')\n",
    "\n",
    "df = res[res.algorithm == 'integer_linear_model_LinearModelObjectiveFunction.LINEAR_APPROX_LOOSE']\n",
    "print(f\"{pct_gap_valid_only(df):>5.2f} & {df.time_s.mean():.1f} & \", end='')\n",
    "\n",
    "df = res[res.algorithm == 'integer_linear_model_LinearModelObjectiveFunction.LINEAR_APPROX_TIGHT']\n",
    "print(f\"{pct_gap_valid_only(df):>5.2f} & {df.time_s.mean():.1f} & \", end='')\n",
    "\n",
    "df = res[res.algorithm == 'frankwolfe']\n",
    "print(f\"{pct_gap_valid_only(df):>5.2f} & {df.time_s.mean():.1f} & \", end='')\n",
    "\n",
    "df = res[res.algorithm == 'labelling_RelaxedLabel']\n",
    "print(f\"{pct_valid_bound(df):>5.2f} & {pct_gap_valid_only(df):>5.2f} & {df.time_s.mean():.1f} & \", end='')\n",
    "\n",
    "df = res[res.algorithm == 'labelling_RelaxedTCLabel']\n",
    "print(f\"{pct_valid_bound(df):>5.2f} & {pct_gap_valid_only(df):>5.2f} & {df.time_s.mean():.1f} \\\\\\\\\")\n",
    "\n",
    "print('\\\\bottomrule')\n",
    "print('\\\\end{tabular}')\n",
    "        "
   ]
  },
  {
   "cell_type": "code",
   "execution_count": null,
   "metadata": {},
   "outputs": [],
   "source": []
  }
 ],
 "metadata": {
  "interpreter": {
   "hash": "dcfd4be38b74fd67a067a2c84885f63246ddcf923cb24893faa39e4501311478"
  },
  "kernelspec": {
   "display_name": "Python 3.8.12 ('hop')",
   "language": "python",
   "name": "python3"
  },
  "language_info": {
   "codemirror_mode": {
    "name": "ipython",
    "version": 3
   },
   "file_extension": ".py",
   "mimetype": "text/x-python",
   "name": "python",
   "nbconvert_exporter": "python",
   "pygments_lexer": "ipython3",
   "version": "3.8.12"
  },
  "orig_nbformat": 4
 },
 "nbformat": 4,
 "nbformat_minor": 2
}
