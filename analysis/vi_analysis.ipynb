{
 "cells": [
  {
   "cell_type": "code",
   "execution_count": 13,
   "metadata": {},
   "outputs": [],
   "source": [
    "from glob import glob\n",
    "from pathlib import Path\n",
    "from os import path\n",
    "from typing import List\n",
    "import pandas as pd\n",
    "import numpy as np\n",
    "import os\n",
    "\n",
    "from tqdm.notebook import tqdm\n",
    "tqdm.pandas()"
   ]
  },
  {
   "cell_type": "code",
   "execution_count": 14,
   "metadata": {},
   "outputs": [],
   "source": [
    "bks = pd.read_csv('bks.csv')"
   ]
  },
  {
   "cell_type": "code",
   "execution_count": 15,
   "metadata": {},
   "outputs": [],
   "source": [
    "def instance_list() -> List[str]:\n",
    "    instances = list()\n",
    "    instance_folder = os.path.join(os.path.abspath(''), '..', 'data', 'hop-tsiligirides')\n",
    "\n",
    "    for instance in glob(os.path.join(instance_folder, '*.json')):\n",
    "        instances.append(os.path.splitext(os.path.basename(instance))[0])\n",
    "\n",
    "    return instances"
   ]
  },
  {
   "cell_type": "code",
   "execution_count": 16,
   "metadata": {},
   "outputs": [],
   "source": [
    "algo_names = {\n",
    "    'frankwolfe': 'Base Model',\n",
    "    'frankwolfe_liftMTZ': 'Lift',\n",
    "    'frankwolfe_with_vi1_liftMTZ': 'Lift + (15)',\n",
    "    'frankwolfe_with_vi1_with_vi2_liftMTZ': 'Lift + (15)--(16)',\n",
    "    'frankwolfe_with_vi1_with_vi2_with_vi3_liftMTZ': 'Lift + (15)--(17)',\n",
    "    'frankwolfe_with_vi1_with_vi2_with_vi3_with_vi4_liftMTZ': 'Lift + (15)--(18)'\n",
    "}"
   ]
  },
  {
   "cell_type": "code",
   "execution_count": 17,
   "metadata": {},
   "outputs": [],
   "source": [
    "def read_data() -> pd.DataFrame:\n",
    "    results_path = os.path.join(os.path.abspath(''), '..', 'results', 'run')\n",
    "    dfs = list()\n",
    "\n",
    "    for algo_name in algo_names:\n",
    "        results_glob = f\"2022-08-*-{algo_name}-*.txt\"\n",
    "        for results_file in tqdm(glob(os.path.join(results_path, results_glob))):                    \n",
    "            df = pd.read_csv(results_file)\n",
    "            df['results_file'] = results_file\n",
    "            dfs.append(df)\n",
    "\n",
    "    return pd.concat(dfs)\n"
   ]
  },
  {
   "cell_type": "code",
   "execution_count": 18,
   "metadata": {},
   "outputs": [],
   "source": [
    "def get_gap(row: pd.Series) -> float:\n",
    "    i = row.instance_basename\n",
    "    bks_row = bks[bks.instance_basename == i]\n",
    "\n",
    "    if len(bks_row) == 0:\n",
    "        print(f\"No entry found in BKS file for instance {i}\")\n",
    "        raise RuntimeError('Missing BKS value')\n",
    "\n",
    "    lb = bks_row.iloc[0]['BKS']\n",
    "    \n",
    "    try:\n",
    "        ub = row['obj_bound']\n",
    "    except KeyError:\n",
    "        ub = row['obj']\n",
    "\n",
    "    if ub < lb < ub + 0.1:\n",
    "        ub = lb # Numerical imprecision\n",
    "    elif lb >= ub + 0.01:\n",
    "        print(f\"Invalid bounds for {row.instance_basename}: {lb=:.2f}, {ub=:.2f}\")\n",
    "\n",
    "    if np.isnan(ub) or ub == 0:\n",
    "        return 100\n",
    "    else:\n",
    "        return 100 * (ub - lb) / ub"
   ]
  },
  {
   "cell_type": "code",
   "execution_count": 19,
   "metadata": {},
   "outputs": [
    {
     "data": {
      "application/vnd.jupyter.widget-view+json": {
       "model_id": "b695cb8f36e44f4f998e51757fa1de2c",
       "version_major": 2,
       "version_minor": 0
      },
      "text/plain": [
       "  0%|          | 0/784 [00:00<?, ?it/s]"
      ]
     },
     "metadata": {},
     "output_type": "display_data"
    },
    {
     "data": {
      "application/vnd.jupyter.widget-view+json": {
       "model_id": "9bcf312cd0554f59b735fb9d42368f63",
       "version_major": 2,
       "version_minor": 0
      },
      "text/plain": [
       "  0%|          | 0/784 [00:00<?, ?it/s]"
      ]
     },
     "metadata": {},
     "output_type": "display_data"
    },
    {
     "data": {
      "application/vnd.jupyter.widget-view+json": {
       "model_id": "ab813ae7c47d47c180972733d7d24844",
       "version_major": 2,
       "version_minor": 0
      },
      "text/plain": [
       "  0%|          | 0/784 [00:00<?, ?it/s]"
      ]
     },
     "metadata": {},
     "output_type": "display_data"
    },
    {
     "data": {
      "application/vnd.jupyter.widget-view+json": {
       "model_id": "6edfcf7b1f1d4234bd0c1d93769f3073",
       "version_major": 2,
       "version_minor": 0
      },
      "text/plain": [
       "  0%|          | 0/784 [00:00<?, ?it/s]"
      ]
     },
     "metadata": {},
     "output_type": "display_data"
    },
    {
     "data": {
      "application/vnd.jupyter.widget-view+json": {
       "model_id": "4073decfb9be4cd4b80c91da56e69cc8",
       "version_major": 2,
       "version_minor": 0
      },
      "text/plain": [
       "  0%|          | 0/784 [00:00<?, ?it/s]"
      ]
     },
     "metadata": {},
     "output_type": "display_data"
    },
    {
     "data": {
      "application/vnd.jupyter.widget-view+json": {
       "model_id": "01955db1557d43c7840adc92d2e66b47",
       "version_major": 2,
       "version_minor": 0
      },
      "text/plain": [
       "  0%|          | 0/784 [00:00<?, ?it/s]"
      ]
     },
     "metadata": {},
     "output_type": "display_data"
    }
   ],
   "source": [
    "d = read_data()"
   ]
  },
  {
   "cell_type": "code",
   "execution_count": 20,
   "metadata": {},
   "outputs": [
    {
     "data": {
      "application/vnd.jupyter.widget-view+json": {
       "model_id": "fa9c122ef113444a8c3c4268c8f4b1c9",
       "version_major": 2,
       "version_minor": 0
      },
      "text/plain": [
       "  0%|          | 0/4704 [00:00<?, ?it/s]"
      ]
     },
     "metadata": {},
     "output_type": "display_data"
    }
   ],
   "source": [
    "d['pct_gap'] = d.progress_apply(get_gap, axis=1)"
   ]
  },
  {
   "cell_type": "code",
   "execution_count": 21,
   "metadata": {},
   "outputs": [],
   "source": [
    "columns = ['lift_mtz', 'add_vi1', 'add_vi2', 'add_vi3', 'add_vi4']\n",
    "data = ['pct_gap', 'time_s']"
   ]
  },
  {
   "cell_type": "code",
   "execution_count": 22,
   "metadata": {},
   "outputs": [],
   "source": [
    "tbl = d.groupby(columns).mean()[data]"
   ]
  },
  {
   "cell_type": "code",
   "execution_count": 23,
   "metadata": {},
   "outputs": [
    {
     "data": {
      "text/html": [
       "<div>\n",
       "<style scoped>\n",
       "    .dataframe tbody tr th:only-of-type {\n",
       "        vertical-align: middle;\n",
       "    }\n",
       "\n",
       "    .dataframe tbody tr th {\n",
       "        vertical-align: top;\n",
       "    }\n",
       "\n",
       "    .dataframe thead th {\n",
       "        text-align: right;\n",
       "    }\n",
       "</style>\n",
       "<table border=\"1\" class=\"dataframe\">\n",
       "  <thead>\n",
       "    <tr style=\"text-align: right;\">\n",
       "      <th></th>\n",
       "      <th></th>\n",
       "      <th></th>\n",
       "      <th></th>\n",
       "      <th></th>\n",
       "      <th>pct_gap</th>\n",
       "      <th>time_s</th>\n",
       "    </tr>\n",
       "    <tr>\n",
       "      <th>lift_mtz</th>\n",
       "      <th>add_vi1</th>\n",
       "      <th>add_vi2</th>\n",
       "      <th>add_vi3</th>\n",
       "      <th>add_vi4</th>\n",
       "      <th></th>\n",
       "      <th></th>\n",
       "    </tr>\n",
       "  </thead>\n",
       "  <tbody>\n",
       "    <tr>\n",
       "      <th>False</th>\n",
       "      <th>False</th>\n",
       "      <th>False</th>\n",
       "      <th>False</th>\n",
       "      <th>False</th>\n",
       "      <td>52.748</td>\n",
       "      <td>0.182</td>\n",
       "    </tr>\n",
       "    <tr>\n",
       "      <th rowspan=\"5\" valign=\"top\">True</th>\n",
       "      <th>False</th>\n",
       "      <th>False</th>\n",
       "      <th>False</th>\n",
       "      <th>False</th>\n",
       "      <td>50.810</td>\n",
       "      <td>0.186</td>\n",
       "    </tr>\n",
       "    <tr>\n",
       "      <th rowspan=\"4\" valign=\"top\">True</th>\n",
       "      <th>False</th>\n",
       "      <th>False</th>\n",
       "      <th>False</th>\n",
       "      <td>22.496</td>\n",
       "      <td>0.785</td>\n",
       "    </tr>\n",
       "    <tr>\n",
       "      <th rowspan=\"3\" valign=\"top\">True</th>\n",
       "      <th>False</th>\n",
       "      <th>False</th>\n",
       "      <td>22.496</td>\n",
       "      <td>0.835</td>\n",
       "    </tr>\n",
       "    <tr>\n",
       "      <th rowspan=\"2\" valign=\"top\">True</th>\n",
       "      <th>False</th>\n",
       "      <td>22.496</td>\n",
       "      <td>0.883</td>\n",
       "    </tr>\n",
       "    <tr>\n",
       "      <th>True</th>\n",
       "      <td>15.914</td>\n",
       "      <td>6.585</td>\n",
       "    </tr>\n",
       "  </tbody>\n",
       "</table>\n",
       "</div>"
      ],
      "text/plain": [
       "                                          pct_gap  time_s\n",
       "lift_mtz add_vi1 add_vi2 add_vi3 add_vi4                 \n",
       "False    False   False   False   False     52.748   0.182\n",
       "True     False   False   False   False     50.810   0.186\n",
       "         True    False   False   False     22.496   0.785\n",
       "                 True    False   False     22.496   0.835\n",
       "                         True    False     22.496   0.883\n",
       "                                 True      15.914   6.585"
      ]
     },
     "execution_count": 23,
     "metadata": {},
     "output_type": "execute_result"
    }
   ],
   "source": [
    "tbl.round(3)"
   ]
  },
  {
   "cell_type": "code",
   "execution_count": 24,
   "metadata": {},
   "outputs": [
    {
     "name": "stdout",
     "output_type": "stream",
     "text": [
      "\\begin{tabular}{ll rrrrrrrrrrrr}\n",
      "\\toprule\n",
      "& & \\multicolumn{2}{c}{\\textsc{Base Model}} & \\multicolumn{2}{c}{\\textsc{Lift}} & \\multicolumn{2}{c}{\\textsc{Lift + (15)}} & \\multicolumn{2}{c}{\\textsc{Lift + (15)--(16)}} & \\multicolumn{2}{c}{\\textsc{Lift + (15)--(17)}} & \\multicolumn{2}{c}{\\textsc{Lift + (15)--(18)}} \\\\\n",
      "\\cmidrule(lr){3-4}\\cmidrule(lr){5-6}\\cmidrule(lr){7-8}\\cmidrule(lr){9-10}\\cmidrule(lr){11-12}\\cmidrule(lr){13-14}\n",
      "\\(\\alpha^{\\text{Tsi}}\\) & \\(\\beta^{\\text{Tsi}}\\) & Gap\\% & T (s) & Gap\\% & T (s) & Gap\\% & T (s) & Gap\\% & T (s) & Gap\\% & T (s) & Gap\\% & T (s) \\\\\n",
      "\\midrule\n",
      "0.1 & 2 & 28.42 & 0.1 & 25.13 & 0.1 & 14.99 & 0.7 & 14.99 & 0.7 & 14.99 & 0.8 & 5.59 & 6.0\\\\\n",
      "0.1 & 3 & 34.61 & 0.0 & 31.61 & 0.0 & 16.70 & 0.7 & 16.70 & 0.7 & 16.70 & 0.7 & 8.23 & 5.7\\\\\n",
      "0.1 & 4 & 40.72 & 0.1 & 38.27 & 0.0 & 20.62 & 0.7 & 20.62 & 0.7 & 20.62 & 0.7 & 12.95 & 6.1\\\\\n",
      "0.1 & 5 & 41.38 & 0.1 & 39.06 & 0.1 & 20.86 & 0.7 & 20.86 & 0.7 & 20.86 & 0.7 & 12.96 & 6.4\\\\\n",
      "0.2 & 2 & 41.08 & 0.2 & 38.21 & 0.2 & 16.42 & 0.8 & 16.42 & 0.8 & 16.42 & 0.8 & 8.00 & 6.4\\\\\n",
      "0.2 & 3 & 48.19 & 0.2 & 46.12 & 0.3 & 19.58 & 0.8 & 19.58 & 0.8 & 19.58 & 0.9 & 12.62 & 6.5\\\\\n",
      "0.2 & 4 & 52.80 & 0.2 & 51.10 & 0.2 & 22.43 & 0.8 & 22.43 & 0.8 & 22.43 & 0.9 & 16.40 & 6.8\\\\\n",
      "0.2 & 5 & 56.55 & 0.2 & 55.15 & 0.2 & 25.91 & 0.8 & 25.91 & 0.8 & 25.91 & 0.9 & 20.49 & 6.7\\\\\n",
      "0.3 & 2 & 48.81 & 0.2 & 46.36 & 0.2 & 16.55 & 0.8 & 16.55 & 0.8 & 16.55 & 0.9 & 9.29 & 5.8\\\\\n",
      "0.3 & 3 & 57.89 & 0.3 & 56.10 & 0.3 & 21.52 & 0.9 & 21.52 & 0.9 & 21.52 & 1.0 & 15.30 & 8.0\\\\\n",
      "0.3 & 4 & 63.00 & 0.2 & 61.68 & 0.2 & 27.17 & 0.9 & 27.17 & 0.9 & 27.17 & 1.0 & 21.91 & 6.7\\\\\n",
      "0.3 & 5 & 67.12 & 0.2 & 66.12 & 0.2 & 31.21 & 0.9 & 31.21 & 1.0 & 31.21 & 1.0 & 26.90 & 8.3\\\\\n",
      "0.4 & 2 & 57.11 & 0.2 & 55.09 & 0.2 & 18.45 & 0.8 & 18.45 & 0.9 & 18.45 & 0.9 & 11.78 & 5.8\\\\\n",
      "0.4 & 3 & 65.30 & 0.3 & 63.92 & 0.3 & 25.70 & 0.8 & 25.70 & 0.9 & 25.70 & 1.0 & 19.86 & 6.8\\\\\n",
      "0.4 & 4 & 68.54 & 0.3 & 67.43 & 0.2 & 28.33 & 0.9 & 28.33 & 0.9 & 28.33 & 1.0 & 23.25 & 6.6\\\\\n",
      "0.4 & 5 & 72.46 & 0.3 & 71.61 & 0.2 & 33.51 & 0.8 & 33.51 & 0.9 & 33.51 & 1.0 & 29.09 & 7.0\\\\\n",
      "\\midrule\n",
      "\\multicolumn{2}{l}{Overall} & 52.75 & 0.2 & 50.81 & 0.2 & 22.50 & 0.8 & 22.50 & 0.8 & 22.50 & 0.9 & 15.91 & 6.6\\\\\n",
      "\\bottomrule\n",
      "\\end{tabular}\n"
     ]
    }
   ],
   "source": [
    "n = len(algo_names)\n",
    "\n",
    "cols = 'rr' * n\n",
    "print(f\"\\\\begin{{tabular}}{{ll {cols}}}\")\n",
    "print('\\\\toprule')\n",
    "print('& & ', end='')\n",
    "\n",
    "algo_header = list()\n",
    "for algo_name in algo_names.values():\n",
    "    algo_header.append(f\"\\\\multicolumn{{2}}{{c}}{{\\\\textsc{{{algo_name}}}}}\")\n",
    "print(' & '.join(algo_header), end=' \\\\\\\\\\n')\n",
    "\n",
    "for start_col in range(3, 2 * (n+1), 2):\n",
    "    print(f\"\\\\cmidrule(lr){{{start_col}-{start_col+1}}}\", end='')\n",
    "print()\n",
    "\n",
    "print('\\\\(\\\\alpha^{\\\\text{Tsi}}\\\\) & \\\\(\\\\beta^{\\\\text{Tsi}}\\\\) & ', end='')\n",
    "col_header = ['Gap\\% & T (s)' for _ in range(n)]\n",
    "print(' & '.join(col_header), end=' \\\\\\\\\\n')\n",
    "\n",
    "print('\\\\midrule')\n",
    "\n",
    "for alpha in sorted(d.tsiligirides_hop_alpha.unique()):\n",
    "    for beta in sorted(d.tsiligirides_hop_beta.unique()):\n",
    "        f = d[(d.tsiligirides_hop_alpha == alpha) & (d.tsiligirides_hop_beta == beta)]\n",
    "\n",
    "        print(f\"{alpha} & {beta} & \", end='')\n",
    "\n",
    "        results = list()\n",
    "        for algorithm in algo_names.keys():\n",
    "            df = f[f.algorithm == algorithm]\n",
    "            results.append(f\"{df.pct_gap.mean():.2f}\")\n",
    "            results.append(f\"{df.time_s.mean():.1f}\")\n",
    "        print(' & '.join(results), end='\\\\\\\\\\n')\n",
    "\n",
    "print('\\\\midrule')\n",
    "\n",
    "print('\\\\multicolumn{2}{l}{Overall} & ', end='')\n",
    "\n",
    "last_row = list()\n",
    "for algorithm in algo_names.keys():\n",
    "    df = d[d.algorithm == algorithm]\n",
    "    last_row.append(f\"{df.pct_gap.mean():.2f}\")\n",
    "    last_row.append(f\"{df.time_s.mean():.1f}\")\n",
    "print(' & '.join(last_row), end='\\\\\\\\\\n')\n",
    "\n",
    "print('\\\\bottomrule')\n",
    "print('\\\\end{tabular}')\n"
   ]
  },
  {
   "cell_type": "code",
   "execution_count": null,
   "metadata": {},
   "outputs": [],
   "source": []
  }
 ],
 "metadata": {
  "interpreter": {
   "hash": "dcfd4be38b74fd67a067a2c84885f63246ddcf923cb24893faa39e4501311478"
  },
  "kernelspec": {
   "display_name": "Python 3.8.12 ('hop')",
   "language": "python",
   "name": "python3"
  },
  "language_info": {
   "codemirror_mode": {
    "name": "ipython",
    "version": 3
   },
   "file_extension": ".py",
   "mimetype": "text/x-python",
   "name": "python",
   "nbconvert_exporter": "python",
   "pygments_lexer": "ipython3",
   "version": "3.8.12"
  },
  "orig_nbformat": 4
 },
 "nbformat": 4,
 "nbformat_minor": 2
}
