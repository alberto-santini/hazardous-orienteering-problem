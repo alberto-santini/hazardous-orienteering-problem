{
 "cells": [
  {
   "cell_type": "code",
   "execution_count": 1,
   "metadata": {},
   "outputs": [],
   "source": [
    "import pandas as pd\n",
    "import numpy as np"
   ]
  },
  {
   "cell_type": "code",
   "execution_count": 4,
   "metadata": {},
   "outputs": [],
   "source": [
    "def read_data() -> pd.DataFrame:\n",
    "    b = pd.read_csv('baron-bounds.csv')\n",
    "    b['LB_VALUE'] = b.obj\n",
    "\n",
    "    c = pd.read_csv('baron-concave-bounds.csv')\n",
    "    c['LB_VALUE'] = c.original_obj\n",
    "\n",
    "    l = pd.read_csv('labelling-lower-bounds.csv')\n",
    "    l['LB_VALUE'] = l.obj\n",
    "\n",
    "    return pd.concat([b, c, l])"
   ]
  },
  {
   "cell_type": "code",
   "execution_count": 5,
   "metadata": {},
   "outputs": [],
   "source": [
    "res = read_data()\n",
    "bks = pd.read_csv('bks.csv')\n",
    "\n",
    "pwl = pd.read_csv('model-based-upper-bounds.csv')\n",
    "pwl = pwl[pwl.algorithm == 'integer_linear_model_LinearModelObjectiveFunction.LINEAR_APPROX_TIGHT_with_vi1_with_vi4_liftMTZ'].copy()\n",
    "\n",
    "cnt = pd.read_csv('model-based-upper-bounds.csv')\n",
    "cnt = cnt[cnt.algorithm == 'frankwolfe_with_vi1_with_vi4_liftMTZ'].copy()"
   ]
  },
  {
   "cell_type": "code",
   "execution_count": 6,
   "metadata": {},
   "outputs": [],
   "source": [
    "def get_gap_with_bks(row: pd.Series) -> float:\n",
    "    i = row.instance_basename\n",
    "    bks_row = bks[bks.instance_basename == i]\n",
    "\n",
    "    if len(bks_row) == 0:\n",
    "        print(f\"No entry found in BKS file for instance {i}\")\n",
    "        raise RuntimeError('Missing BKS value')\n",
    "\n",
    "    ub = bks_row.iloc[0]['BKS']\n",
    "    lb = row['LB_VALUE']\n",
    "\n",
    "    if np.isnan(ub) or ub == 0:\n",
    "        return 1\n",
    "    else:\n",
    "        return np.abs(ub - lb) / ub\n",
    "\n",
    "def get_gap_with_cnt(row: pd.Series) -> float:\n",
    "    i = row.instance_basename\n",
    "    cnt_row = cnt[cnt.instance_basename == i]\n",
    "\n",
    "    if len(cnt_row) == 0:\n",
    "        print(f\"No entry found in CNT file for instance {i}\")\n",
    "        raise RuntimeError('Missing CNT value')\n",
    "\n",
    "    ub = cnt_row.iloc[0]['obj']\n",
    "    lb = row['LB_VALUE']\n",
    "\n",
    "    if np.isnan(ub) or ub == 0:\n",
    "        return 1\n",
    "    else:\n",
    "        return np.abs(ub - lb) / ub"
   ]
  },
  {
   "cell_type": "code",
   "execution_count": 7,
   "metadata": {},
   "outputs": [],
   "source": [
    "res['GAP_WITH_BKS'] = res.apply(get_gap_with_bks, axis=1)\n",
    "res['GAP_WITH_CNT'] = res.apply(get_gap_with_cnt, axis=1)"
   ]
  },
  {
   "cell_type": "code",
   "execution_count": 9,
   "metadata": {},
   "outputs": [
    {
     "data": {
      "text/html": [
       "<div>\n",
       "<style scoped>\n",
       "    .dataframe tbody tr th:only-of-type {\n",
       "        vertical-align: middle;\n",
       "    }\n",
       "\n",
       "    .dataframe tbody tr th {\n",
       "        vertical-align: top;\n",
       "    }\n",
       "\n",
       "    .dataframe thead th {\n",
       "        text-align: right;\n",
       "    }\n",
       "</style>\n",
       "<table border=\"1\" class=\"dataframe\">\n",
       "  <thead>\n",
       "    <tr style=\"text-align: right;\">\n",
       "      <th></th>\n",
       "      <th>GAP_WITH_BKS</th>\n",
       "      <th>GAP_WITH_CNT</th>\n",
       "      <th>time_s</th>\n",
       "    </tr>\n",
       "    <tr>\n",
       "      <th>algorithm</th>\n",
       "      <th></th>\n",
       "      <th></th>\n",
       "      <th></th>\n",
       "    </tr>\n",
       "  </thead>\n",
       "  <tbody>\n",
       "    <tr>\n",
       "      <th>labelling_StrongLabel</th>\n",
       "      <td>0.472</td>\n",
       "      <td>0.574</td>\n",
       "      <td>3187.458</td>\n",
       "    </tr>\n",
       "    <tr>\n",
       "      <th>nonlinear_concave_model</th>\n",
       "      <td>0.002</td>\n",
       "      <td>0.161</td>\n",
       "      <td>647.858</td>\n",
       "    </tr>\n",
       "    <tr>\n",
       "      <th>nonlinear_concave_model_with_vi1_liftMTZ</th>\n",
       "      <td>0.000</td>\n",
       "      <td>0.159</td>\n",
       "      <td>70.467</td>\n",
       "    </tr>\n",
       "    <tr>\n",
       "      <th>nonlinear_model_with_vi1_liftMTZ</th>\n",
       "      <td>0.075</td>\n",
       "      <td>0.220</td>\n",
       "      <td>830.560</td>\n",
       "    </tr>\n",
       "  </tbody>\n",
       "</table>\n",
       "</div>"
      ],
      "text/plain": [
       "                                          GAP_WITH_BKS  GAP_WITH_CNT    time_s\n",
       "algorithm                                                                     \n",
       "labelling_StrongLabel                            0.472         0.574  3187.458\n",
       "nonlinear_concave_model                          0.002         0.161   647.858\n",
       "nonlinear_concave_model_with_vi1_liftMTZ         0.000         0.159    70.467\n",
       "nonlinear_model_with_vi1_liftMTZ                 0.075         0.220   830.560"
      ]
     },
     "execution_count": 9,
     "metadata": {},
     "output_type": "execute_result"
    }
   ],
   "source": [
    "res.groupby('algorithm').mean()[['GAP_WITH_BKS', 'GAP_WITH_CNT', 'time_s']].round(3)"
   ]
  },
  {
   "cell_type": "code",
   "execution_count": 11,
   "metadata": {},
   "outputs": [],
   "source": [
    "def print_vals(df: pd.DataFrame, last: bool = False) -> None:\n",
    "    print(f\"{100*df['GAP_WITH_BKS'].mean():>5.2f} & \", end='')\n",
    "    print(f\"{100*df['GAP_WITH_CNT'].mean():.2f} & \", end='')\n",
    "    print(f\"{df.time_s.mean():>6.1f}\", end='')\n",
    "\n",
    "    if last:\n",
    "        print(' \\\\\\\\')\n",
    "    else:\n",
    "        print(' & ', end='')"
   ]
  },
  {
   "cell_type": "code",
   "execution_count": 15,
   "metadata": {},
   "outputs": [
    {
     "name": "stdout",
     "output_type": "stream",
     "text": [
      "\\begin{tabular}{ll rrr rrr rrr rrr}\n",
      "\\toprule\n",
      " & & \\multicolumn{3}{c}{\\textsc{LB-NLModel}} & \\multicolumn{3}{c}{\\textsc{LB-NLCModel}} & \\multicolumn{3}{c}{\\textsc{LB-NLCModel}\\(^*\\)} & \\multicolumn{3}{c}{\\textsc{}LB-Label} \\\\\n",
      "\\cmidrule(lr){3-5}\\cmidrule(lr){6-8}\\cmidrule(lr){9-11}\\cmidrule(lr){12-14}\n",
      "\\(\\alpha^{\\text{Tsi}}\\) & \\(\\beta^{\\text{Tsi}}\\) & G\\textsubscript{1}\\% & G\\textsubscript{2}\\% & T (s) & G\\textsubscript{1}\\% & G\\textsubscript{2}\\% & T (s) & G\\textsubscript{1}\\% & G\\textsubscript{2}\\% & T (s) & G\\textsubscript{1}\\% & G\\textsubscript{2}\\% & T (s) \\\\\n",
      "\\midrule\n",
      "0.10 & 2 &  0.00 & 5.59 &   69.6 &  0.00 & 5.59 &   27.0 &  0.00 & 5.59 &  102.1 & 47.14 & 51.25 & 3177.7 \\\\\n",
      "0.10 & 3 &  0.00 & 8.23 &  103.0 &  0.00 & 8.23 &   24.7 &  0.00 & 8.23 &  129.5 & 45.47 & 51.34 & 3188.4 \\\\\n",
      "0.10 & 4 &  0.00 & 12.95 &  139.9 &  0.00 & 12.95 &   33.5 &  0.00 & 12.95 &  155.8 & 45.08 & 54.07 & 3182.6 \\\\\n",
      "0.10 & 5 &  0.00 & 12.96 &  216.4 &  0.00 & 12.96 &   26.5 &  0.00 & 12.96 &  192.8 & 44.23 & 53.11 & 3183.4 \\\\\n",
      "0.20 & 2 &  0.00 & 8.00 &  198.9 &  0.00 & 8.00 &   47.6 &  0.00 & 8.00 &  193.3 & 46.52 & 52.54 & 3185.7 \\\\\n",
      "0.20 & 3 &  1.21 & 13.74 &  387.4 &  0.00 & 12.62 &   26.8 &  0.00 & 12.62 &  245.7 & 46.66 & 55.35 & 3190.9 \\\\\n",
      "0.20 & 4 &  1.94 & 17.99 &  557.5 &  0.00 & 16.40 &   35.8 &  0.00 & 16.40 &  507.9 & 47.63 & 57.76 & 3184.7 \\\\\n",
      "0.20 & 5 &  9.03 & 28.11 & 1058.7 &  0.00 & 20.49 &   39.3 &  0.00 & 20.49 &  651.5 & 46.40 & 59.38 & 3182.8 \\\\\n",
      "0.30 & 2 &  0.00 & 9.29 &  282.1 &  0.00 & 9.29 &    9.7 &  0.00 & 9.29 &  105.8 & 50.18 & 56.77 & 3188.8 \\\\\n",
      "0.30 & 3 &  7.77 & 22.28 &  864.6 &  0.00 & 15.30 &   16.1 &  0.00 & 15.30 &  341.2 & 48.23 & 58.35 & 3188.0 \\\\\n",
      "0.30 & 4 & 14.37 & 33.89 & 1406.0 &  0.00 & 21.91 &   28.9 &  0.00 & 21.91 & 1056.2 & 47.45 & 61.38 & 3191.3 \\\\\n",
      "0.30 & 5 & 11.85 & 35.91 & 1643.5 &  0.00 & 26.90 &  240.8 &  0.30 & 27.11 & 1482.3 & 45.27 & 61.63 & 3190.0 \\\\\n",
      "0.40 & 2 &  5.60 & 16.97 &  844.0 &  0.00 & 11.78 &   12.8 &  0.00 & 11.78 &  389.7 & 50.93 & 58.80 & 3193.3 \\\\\n",
      "0.40 & 3 & 14.62 & 32.36 & 1614.1 &  0.00 & 19.86 &   14.8 &  0.00 & 19.86 & 1142.4 & 49.05 & 61.39 & 3191.4 \\\\\n",
      "0.40 & 4 & 25.42 & 43.32 & 1816.9 &  0.00 & 23.25 &  160.5 &  0.44 & 23.54 & 1600.8 & 48.57 & 61.88 & 3188.7 \\\\\n",
      "0.40 & 5 & 28.60 & 50.77 & 2086.4 &  0.00 & 29.09 &  382.7 &  2.35 & 30.78 & 2068.7 & 46.65 & 63.69 & 3191.6 \\\\\n",
      "\\midrule\n",
      "\\multicolumn{2}{l}{Overall} &  7.53 & 22.02 &  830.6 &  0.00 & 15.91 &   70.5 &  0.19 & 16.05 &  647.9 & 47.22 & 57.42 & 3187.5 \\\\\n",
      "\\bottomrule\n",
      "\\end{tabular}\n"
     ]
    }
   ],
   "source": [
    "print('\\\\begin{tabular}{ll rrr rrr rrr rrr}')\n",
    "print('\\\\toprule')\n",
    "print(' & & ', end='')\n",
    "print('\\\\multicolumn{3}{c}{\\\\textsc{LB-NLModel}} & ', end='')\n",
    "print('\\\\multicolumn{3}{c}{\\\\textsc{LB-NLCModel}} & ', end='')\n",
    "print('\\\\multicolumn{3}{c}{\\\\textsc{LB-NLCModel}\\\\(^*\\\\)} & ', end='')\n",
    "print('\\\\multicolumn{3}{c}{\\\\textsc{}LB-Label} \\\\\\\\')\n",
    "\n",
    "print('\\\\cmidrule(lr){3-5}\\\\cmidrule(lr){6-8}\\\\cmidrule(lr){9-11}\\\\cmidrule(lr){12-14}')\n",
    "print('\\\\(\\\\alpha^{\\\\text{Tsi}}\\\\) & \\\\(\\\\beta^{\\\\text{Tsi}}\\\\) & ', end='')\n",
    "print('G\\\\textsubscript{1}\\% & G\\\\textsubscript{2}\\% & T (s) & ' * 3, end='')\n",
    "print('G\\\\textsubscript{1}\\% & G\\\\textsubscript{2}\\% & T (s) \\\\\\\\')\n",
    "print('\\\\midrule')\n",
    "\n",
    "for alpha in sorted(res.tsiligirides_hop_alpha.unique()):\n",
    "    for beta in sorted(res.tsiligirides_hop_beta.unique()):\n",
    "        f = res[(res.tsiligirides_hop_alpha == alpha) & (res.tsiligirides_hop_beta == beta)]\n",
    "\n",
    "        print(f\"{alpha:.2f} & {beta} & \", end='')\n",
    "\n",
    "        df = f[f.algorithm == 'nonlinear_model_with_vi1_liftMTZ']\n",
    "        print_vals(df)\n",
    "\n",
    "        df = f[f.algorithm == 'nonlinear_concave_model_with_vi1_liftMTZ']\n",
    "        print_vals(df)\n",
    "\n",
    "        df = f[f.algorithm == 'nonlinear_concave_model']\n",
    "        print_vals(df)\n",
    "\n",
    "        df = f[f.algorithm == 'labelling_StrongLabel']\n",
    "        print_vals(df, last=True)\n",
    "\n",
    "print('\\\\midrule')\n",
    "print('\\\\multicolumn{2}{l}{Overall} & ', end='')\n",
    "\n",
    "df = res[res.algorithm == 'nonlinear_model_with_vi1_liftMTZ']\n",
    "print_vals(df)\n",
    "\n",
    "df = res[res.algorithm == 'nonlinear_concave_model_with_vi1_liftMTZ']\n",
    "print_vals(df)\n",
    "\n",
    "df = res[res.algorithm == 'nonlinear_concave_model']\n",
    "print_vals(df)\n",
    "\n",
    "df = res[res.algorithm == 'labelling_StrongLabel']\n",
    "print_vals(df, last=True)\n",
    "\n",
    "print('\\\\bottomrule')\n",
    "print('\\\\end{tabular}')"
   ]
  },
  {
   "cell_type": "code",
   "execution_count": null,
   "metadata": {},
   "outputs": [],
   "source": []
  }
 ],
 "metadata": {
  "interpreter": {
   "hash": "dcfd4be38b74fd67a067a2c84885f63246ddcf923cb24893faa39e4501311478"
  },
  "kernelspec": {
   "display_name": "Python 3 (ipykernel)",
   "language": "python",
   "name": "python3"
  },
  "language_info": {
   "codemirror_mode": {
    "name": "ipython",
    "version": 3
   },
   "file_extension": ".py",
   "mimetype": "text/x-python",
   "name": "python",
   "nbconvert_exporter": "python",
   "pygments_lexer": "ipython3",
   "version": "3.8.12"
  }
 },
 "nbformat": 4,
 "nbformat_minor": 2
}
