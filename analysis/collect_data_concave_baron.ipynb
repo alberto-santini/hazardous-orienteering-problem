{
 "cells": [
  {
   "cell_type": "code",
   "execution_count": 1,
   "metadata": {},
   "outputs": [],
   "source": [
    "from glob import glob\n",
    "from typing import List\n",
    "from tqdm.notebook import tqdm\n",
    "import pandas as pd\n",
    "import os"
   ]
  },
  {
   "cell_type": "code",
   "execution_count": 2,
   "metadata": {},
   "outputs": [],
   "source": [
    "def instance_list() -> List[str]:\n",
    "    instances = list()\n",
    "    instance_folder = os.path.join(os.path.abspath(''), '..', 'data', 'hop-tsiligirides')\n",
    "\n",
    "    for instance in glob(os.path.join(instance_folder, '*.json')):\n",
    "        instances.append(os.path.splitext(os.path.basename(instance))[0])\n",
    "\n",
    "    return instances"
   ]
  },
  {
   "cell_type": "code",
   "execution_count": 4,
   "metadata": {},
   "outputs": [],
   "source": [
    "algo_globs = [\n",
    "    '*-nonlinear_concave_model-*',\n",
    "    '*-nonlinear_concave_model_with_vi1_liftMTZ-*'\n",
    "]"
   ]
  },
  {
   "cell_type": "code",
   "execution_count": 5,
   "metadata": {},
   "outputs": [],
   "source": [
    "def read_results() -> pd.DataFrame:\n",
    "    dfs = list()\n",
    "    resfile_folder = os.path.join(os.path.abspath(''), '..', 'results', 'run')\n",
    "\n",
    "    files = [glob(os.path.join(resfile_folder, glb)) for glb in algo_globs]\n",
    "    files = [f for fs in files for f in fs]\n",
    "\n",
    "    for resfile in tqdm(files):\n",
    "        df = pd.read_csv(resfile)\n",
    "\n",
    "        # Old results files were missing some header columns\n",
    "        if 'add_vi1' not in df.columns:\n",
    "            df['add_vi1'] = False\n",
    "        if 'add_vi2' not in df.columns:\n",
    "            df['add_vi2'] = False\n",
    "        if 'add_vi3' not in df.columns:\n",
    "            df['add_vi3'] = False\n",
    "        if 'add_vi4' not in df.columns:\n",
    "            df['add_vi4'] = False\n",
    "        if 'liftMTZ' not in df.columns:\n",
    "            df['liftMTZ'] = False\n",
    "\n",
    "        # And some other column was named differently\n",
    "        if 'actual_tour_obj' in df.columns:\n",
    "            df.rename(columns=dict(actual_tour_obj='original_obj'), inplace=True)\n",
    "\n",
    "        # Correct error in old results\n",
    "        if df.loc[0, 'algorithm'] == 'nonlinear_model':\n",
    "            df['algorithm'] = 'nonlinear_concave_model'\n",
    "\n",
    "        dfs.append(df)\n",
    "\n",
    "    return pd.concat(dfs)"
   ]
  },
  {
   "cell_type": "code",
   "execution_count": 6,
   "metadata": {},
   "outputs": [],
   "source": [
    "def find_missing(instances: List[str], res: pd.DataFrame) -> List[str]:\n",
    "    return [i for i in instances if len(res[res.instance_basename == i]) < 2]"
   ]
  },
  {
   "cell_type": "code",
   "execution_count": 7,
   "metadata": {},
   "outputs": [],
   "source": [
    "instances = instance_list()"
   ]
  },
  {
   "cell_type": "code",
   "execution_count": 8,
   "metadata": {},
   "outputs": [
    {
     "data": {
      "application/vnd.jupyter.widget-view+json": {
       "model_id": "743c42d257764b76984a9b7fa7dc8d64",
       "version_major": 2,
       "version_minor": 0
      },
      "text/plain": [
       "  0%|          | 0/1568 [00:00<?, ?it/s]"
      ]
     },
     "metadata": {},
     "output_type": "display_data"
    }
   ],
   "source": [
    "res = read_results()"
   ]
  },
  {
   "cell_type": "code",
   "execution_count": 9,
   "metadata": {},
   "outputs": [],
   "source": [
    "missing = find_missing(instances=instances, res=res)"
   ]
  },
  {
   "cell_type": "code",
   "execution_count": 10,
   "metadata": {},
   "outputs": [
    {
     "data": {
      "text/plain": [
       "[]"
      ]
     },
     "execution_count": 10,
     "metadata": {},
     "output_type": "execute_result"
    }
   ],
   "source": [
    "missing"
   ]
  },
  {
   "cell_type": "code",
   "execution_count": 11,
   "metadata": {},
   "outputs": [],
   "source": [
    "res.to_csv('baron-concave-bounds.csv', index=False)"
   ]
  }
 ],
 "metadata": {
  "kernelspec": {
   "display_name": "Python 3 (ipykernel)",
   "language": "python",
   "name": "python3"
  },
  "language_info": {
   "codemirror_mode": {
    "name": "ipython",
    "version": 3
   },
   "file_extension": ".py",
   "mimetype": "text/x-python",
   "name": "python",
   "nbconvert_exporter": "python",
   "pygments_lexer": "ipython3",
   "version": "3.8.12"
  }
 },
 "nbformat": 4,
 "nbformat_minor": 1
}
